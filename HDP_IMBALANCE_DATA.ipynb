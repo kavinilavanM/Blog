{
  "cells": [
    {
      "cell_type": "markdown",
      "source": [
        "# Effective Way to Handling Imbalance Dataset"
      ],
      "metadata": {
        "id": "Z-tiJyQqCDox"
      },
      "id": "Z-tiJyQqCDox"
    },
    {
      "cell_type": "code",
      "execution_count": 1,
      "id": "72d9467b",
      "metadata": {
        "id": "72d9467b"
      },
      "outputs": [],
      "source": [
        "import pandas as pd \n",
        "import numpy as np\n",
        "import seaborn as sns \n",
        "import matplotlib.pyplot as plt \n"
      ]
    },
    {
      "cell_type": "code",
      "execution_count": 3,
      "id": "9b9cf6ed",
      "metadata": {
        "id": "9b9cf6ed"
      },
      "outputs": [],
      "source": [
        "data=pd.read_csv(\"framingham.csv\") "
      ]
    },
    {
      "cell_type": "code",
      "execution_count": 4,
      "id": "bc12985d",
      "metadata": {
        "colab": {
          "base_uri": "https://localhost:8080/",
          "height": 206
        },
        "id": "bc12985d",
        "outputId": "7c0ec789-cadf-4c72-a3df-af306639fbbf"
      },
      "outputs": [
        {
          "output_type": "execute_result",
          "data": {
            "text/plain": [
              "   male  age  education  currentSmoker  cigsPerDay  BPMeds  prevalentStroke  \\\n",
              "0     1   39        4.0              0         0.0     0.0                0   \n",
              "1     0   46        2.0              0         0.0     0.0                0   \n",
              "2     1   48        1.0              1        20.0     0.0                0   \n",
              "3     0   61        3.0              1        30.0     0.0                0   \n",
              "4     0   46        3.0              1        23.0     0.0                0   \n",
              "\n",
              "   prevalentHyp  diabetes  totChol  sysBP  diaBP    BMI  heartRate  glucose  \\\n",
              "0             0         0    195.0  106.0   70.0  26.97       80.0     77.0   \n",
              "1             0         0    250.0  121.0   81.0  28.73       95.0     76.0   \n",
              "2             0         0    245.0  127.5   80.0  25.34       75.0     70.0   \n",
              "3             1         0    225.0  150.0   95.0  28.58       65.0    103.0   \n",
              "4             0         0    285.0  130.0   84.0  23.10       85.0     85.0   \n",
              "\n",
              "   TenYearCHD  \n",
              "0           0  \n",
              "1           0  \n",
              "2           0  \n",
              "3           1  \n",
              "4           0  "
            ],
            "text/html": [
              "\n",
              "  <div id=\"df-7ff41126-5cb2-46bd-ae0f-b3fde3fe5c78\">\n",
              "    <div class=\"colab-df-container\">\n",
              "      <div>\n",
              "<style scoped>\n",
              "    .dataframe tbody tr th:only-of-type {\n",
              "        vertical-align: middle;\n",
              "    }\n",
              "\n",
              "    .dataframe tbody tr th {\n",
              "        vertical-align: top;\n",
              "    }\n",
              "\n",
              "    .dataframe thead th {\n",
              "        text-align: right;\n",
              "    }\n",
              "</style>\n",
              "<table border=\"1\" class=\"dataframe\">\n",
              "  <thead>\n",
              "    <tr style=\"text-align: right;\">\n",
              "      <th></th>\n",
              "      <th>male</th>\n",
              "      <th>age</th>\n",
              "      <th>education</th>\n",
              "      <th>currentSmoker</th>\n",
              "      <th>cigsPerDay</th>\n",
              "      <th>BPMeds</th>\n",
              "      <th>prevalentStroke</th>\n",
              "      <th>prevalentHyp</th>\n",
              "      <th>diabetes</th>\n",
              "      <th>totChol</th>\n",
              "      <th>sysBP</th>\n",
              "      <th>diaBP</th>\n",
              "      <th>BMI</th>\n",
              "      <th>heartRate</th>\n",
              "      <th>glucose</th>\n",
              "      <th>TenYearCHD</th>\n",
              "    </tr>\n",
              "  </thead>\n",
              "  <tbody>\n",
              "    <tr>\n",
              "      <th>0</th>\n",
              "      <td>1</td>\n",
              "      <td>39</td>\n",
              "      <td>4.0</td>\n",
              "      <td>0</td>\n",
              "      <td>0.0</td>\n",
              "      <td>0.0</td>\n",
              "      <td>0</td>\n",
              "      <td>0</td>\n",
              "      <td>0</td>\n",
              "      <td>195.0</td>\n",
              "      <td>106.0</td>\n",
              "      <td>70.0</td>\n",
              "      <td>26.97</td>\n",
              "      <td>80.0</td>\n",
              "      <td>77.0</td>\n",
              "      <td>0</td>\n",
              "    </tr>\n",
              "    <tr>\n",
              "      <th>1</th>\n",
              "      <td>0</td>\n",
              "      <td>46</td>\n",
              "      <td>2.0</td>\n",
              "      <td>0</td>\n",
              "      <td>0.0</td>\n",
              "      <td>0.0</td>\n",
              "      <td>0</td>\n",
              "      <td>0</td>\n",
              "      <td>0</td>\n",
              "      <td>250.0</td>\n",
              "      <td>121.0</td>\n",
              "      <td>81.0</td>\n",
              "      <td>28.73</td>\n",
              "      <td>95.0</td>\n",
              "      <td>76.0</td>\n",
              "      <td>0</td>\n",
              "    </tr>\n",
              "    <tr>\n",
              "      <th>2</th>\n",
              "      <td>1</td>\n",
              "      <td>48</td>\n",
              "      <td>1.0</td>\n",
              "      <td>1</td>\n",
              "      <td>20.0</td>\n",
              "      <td>0.0</td>\n",
              "      <td>0</td>\n",
              "      <td>0</td>\n",
              "      <td>0</td>\n",
              "      <td>245.0</td>\n",
              "      <td>127.5</td>\n",
              "      <td>80.0</td>\n",
              "      <td>25.34</td>\n",
              "      <td>75.0</td>\n",
              "      <td>70.0</td>\n",
              "      <td>0</td>\n",
              "    </tr>\n",
              "    <tr>\n",
              "      <th>3</th>\n",
              "      <td>0</td>\n",
              "      <td>61</td>\n",
              "      <td>3.0</td>\n",
              "      <td>1</td>\n",
              "      <td>30.0</td>\n",
              "      <td>0.0</td>\n",
              "      <td>0</td>\n",
              "      <td>1</td>\n",
              "      <td>0</td>\n",
              "      <td>225.0</td>\n",
              "      <td>150.0</td>\n",
              "      <td>95.0</td>\n",
              "      <td>28.58</td>\n",
              "      <td>65.0</td>\n",
              "      <td>103.0</td>\n",
              "      <td>1</td>\n",
              "    </tr>\n",
              "    <tr>\n",
              "      <th>4</th>\n",
              "      <td>0</td>\n",
              "      <td>46</td>\n",
              "      <td>3.0</td>\n",
              "      <td>1</td>\n",
              "      <td>23.0</td>\n",
              "      <td>0.0</td>\n",
              "      <td>0</td>\n",
              "      <td>0</td>\n",
              "      <td>0</td>\n",
              "      <td>285.0</td>\n",
              "      <td>130.0</td>\n",
              "      <td>84.0</td>\n",
              "      <td>23.10</td>\n",
              "      <td>85.0</td>\n",
              "      <td>85.0</td>\n",
              "      <td>0</td>\n",
              "    </tr>\n",
              "  </tbody>\n",
              "</table>\n",
              "</div>\n",
              "      <button class=\"colab-df-convert\" onclick=\"convertToInteractive('df-7ff41126-5cb2-46bd-ae0f-b3fde3fe5c78')\"\n",
              "              title=\"Convert this dataframe to an interactive table.\"\n",
              "              style=\"display:none;\">\n",
              "        \n",
              "  <svg xmlns=\"http://www.w3.org/2000/svg\" height=\"24px\"viewBox=\"0 0 24 24\"\n",
              "       width=\"24px\">\n",
              "    <path d=\"M0 0h24v24H0V0z\" fill=\"none\"/>\n",
              "    <path d=\"M18.56 5.44l.94 2.06.94-2.06 2.06-.94-2.06-.94-.94-2.06-.94 2.06-2.06.94zm-11 1L8.5 8.5l.94-2.06 2.06-.94-2.06-.94L8.5 2.5l-.94 2.06-2.06.94zm10 10l.94 2.06.94-2.06 2.06-.94-2.06-.94-.94-2.06-.94 2.06-2.06.94z\"/><path d=\"M17.41 7.96l-1.37-1.37c-.4-.4-.92-.59-1.43-.59-.52 0-1.04.2-1.43.59L10.3 9.45l-7.72 7.72c-.78.78-.78 2.05 0 2.83L4 21.41c.39.39.9.59 1.41.59.51 0 1.02-.2 1.41-.59l7.78-7.78 2.81-2.81c.8-.78.8-2.07 0-2.86zM5.41 20L4 18.59l7.72-7.72 1.47 1.35L5.41 20z\"/>\n",
              "  </svg>\n",
              "      </button>\n",
              "      \n",
              "  <style>\n",
              "    .colab-df-container {\n",
              "      display:flex;\n",
              "      flex-wrap:wrap;\n",
              "      gap: 12px;\n",
              "    }\n",
              "\n",
              "    .colab-df-convert {\n",
              "      background-color: #E8F0FE;\n",
              "      border: none;\n",
              "      border-radius: 50%;\n",
              "      cursor: pointer;\n",
              "      display: none;\n",
              "      fill: #1967D2;\n",
              "      height: 32px;\n",
              "      padding: 0 0 0 0;\n",
              "      width: 32px;\n",
              "    }\n",
              "\n",
              "    .colab-df-convert:hover {\n",
              "      background-color: #E2EBFA;\n",
              "      box-shadow: 0px 1px 2px rgba(60, 64, 67, 0.3), 0px 1px 3px 1px rgba(60, 64, 67, 0.15);\n",
              "      fill: #174EA6;\n",
              "    }\n",
              "\n",
              "    [theme=dark] .colab-df-convert {\n",
              "      background-color: #3B4455;\n",
              "      fill: #D2E3FC;\n",
              "    }\n",
              "\n",
              "    [theme=dark] .colab-df-convert:hover {\n",
              "      background-color: #434B5C;\n",
              "      box-shadow: 0px 1px 3px 1px rgba(0, 0, 0, 0.15);\n",
              "      filter: drop-shadow(0px 1px 2px rgba(0, 0, 0, 0.3));\n",
              "      fill: #FFFFFF;\n",
              "    }\n",
              "  </style>\n",
              "\n",
              "      <script>\n",
              "        const buttonEl =\n",
              "          document.querySelector('#df-7ff41126-5cb2-46bd-ae0f-b3fde3fe5c78 button.colab-df-convert');\n",
              "        buttonEl.style.display =\n",
              "          google.colab.kernel.accessAllowed ? 'block' : 'none';\n",
              "\n",
              "        async function convertToInteractive(key) {\n",
              "          const element = document.querySelector('#df-7ff41126-5cb2-46bd-ae0f-b3fde3fe5c78');\n",
              "          const dataTable =\n",
              "            await google.colab.kernel.invokeFunction('convertToInteractive',\n",
              "                                                     [key], {});\n",
              "          if (!dataTable) return;\n",
              "\n",
              "          const docLinkHtml = 'Like what you see? Visit the ' +\n",
              "            '<a target=\"_blank\" href=https://colab.research.google.com/notebooks/data_table.ipynb>data table notebook</a>'\n",
              "            + ' to learn more about interactive tables.';\n",
              "          element.innerHTML = '';\n",
              "          dataTable['output_type'] = 'display_data';\n",
              "          await google.colab.output.renderOutput(dataTable, element);\n",
              "          const docLink = document.createElement('div');\n",
              "          docLink.innerHTML = docLinkHtml;\n",
              "          element.appendChild(docLink);\n",
              "        }\n",
              "      </script>\n",
              "    </div>\n",
              "  </div>\n",
              "  "
            ]
          },
          "metadata": {},
          "execution_count": 4
        }
      ],
      "source": [
        "data.head() "
      ]
    },
    {
      "cell_type": "code",
      "execution_count": 5,
      "id": "33609dab",
      "metadata": {
        "colab": {
          "base_uri": "https://localhost:8080/"
        },
        "id": "33609dab",
        "outputId": "8b21c507-bc49-4edd-d589-69c20c588407"
      },
      "outputs": [
        {
          "output_type": "stream",
          "name": "stdout",
          "text": [
            "<class 'pandas.core.frame.DataFrame'>\n",
            "RangeIndex: 4238 entries, 0 to 4237\n",
            "Data columns (total 16 columns):\n",
            " #   Column           Non-Null Count  Dtype  \n",
            "---  ------           --------------  -----  \n",
            " 0   male             4238 non-null   int64  \n",
            " 1   age              4238 non-null   int64  \n",
            " 2   education        4133 non-null   float64\n",
            " 3   currentSmoker    4238 non-null   int64  \n",
            " 4   cigsPerDay       4209 non-null   float64\n",
            " 5   BPMeds           4185 non-null   float64\n",
            " 6   prevalentStroke  4238 non-null   int64  \n",
            " 7   prevalentHyp     4238 non-null   int64  \n",
            " 8   diabetes         4238 non-null   int64  \n",
            " 9   totChol          4188 non-null   float64\n",
            " 10  sysBP            4238 non-null   float64\n",
            " 11  diaBP            4238 non-null   float64\n",
            " 12  BMI              4219 non-null   float64\n",
            " 13  heartRate        4237 non-null   float64\n",
            " 14  glucose          3850 non-null   float64\n",
            " 15  TenYearCHD       4238 non-null   int64  \n",
            "dtypes: float64(9), int64(7)\n",
            "memory usage: 529.9 KB\n"
          ]
        }
      ],
      "source": [
        "data.info()"
      ]
    },
    {
      "cell_type": "code",
      "execution_count": 6,
      "id": "41c9f7db",
      "metadata": {
        "colab": {
          "base_uri": "https://localhost:8080/"
        },
        "id": "41c9f7db",
        "outputId": "57cd4f71-8b8d-432f-b216-68f5880aa666"
      },
      "outputs": [
        {
          "output_type": "execute_result",
          "data": {
            "text/plain": [
              "male                  2\n",
              "age                  39\n",
              "education             4\n",
              "currentSmoker         2\n",
              "cigsPerDay           33\n",
              "BPMeds                2\n",
              "prevalentStroke       2\n",
              "prevalentHyp          2\n",
              "diabetes              2\n",
              "totChol             248\n",
              "sysBP               234\n",
              "diaBP               146\n",
              "BMI                1363\n",
              "heartRate            73\n",
              "glucose             143\n",
              "TenYearCHD            2\n",
              "dtype: int64"
            ]
          },
          "metadata": {},
          "execution_count": 6
        }
      ],
      "source": [
        "data.nunique() "
      ]
    },
    {
      "cell_type": "code",
      "execution_count": 7,
      "id": "584fb954",
      "metadata": {
        "colab": {
          "base_uri": "https://localhost:8080/"
        },
        "id": "584fb954",
        "outputId": "67018eb8-5d6a-4669-ce7b-bd1a62e9e095"
      },
      "outputs": [
        {
          "output_type": "execute_result",
          "data": {
            "text/plain": [
              "male                 0\n",
              "age                  0\n",
              "education          105\n",
              "currentSmoker        0\n",
              "cigsPerDay          29\n",
              "BPMeds              53\n",
              "prevalentStroke      0\n",
              "prevalentHyp         0\n",
              "diabetes             0\n",
              "totChol             50\n",
              "sysBP                0\n",
              "diaBP                0\n",
              "BMI                 19\n",
              "heartRate            1\n",
              "glucose            388\n",
              "TenYearCHD           0\n",
              "dtype: int64"
            ]
          },
          "metadata": {},
          "execution_count": 7
        }
      ],
      "source": [
        "\n",
        "data.isnull().sum()"
      ]
    },
    {
      "cell_type": "code",
      "execution_count": 8,
      "id": "c9cbc555",
      "metadata": {
        "colab": {
          "base_uri": "https://localhost:8080/"
        },
        "id": "c9cbc555",
        "outputId": "9d428731-55e9-4ac2-8f1a-2da2bd603103"
      },
      "outputs": [
        {
          "output_type": "stream",
          "name": "stdout",
          "text": [
            "Column : glucose\n",
            "143\n",
            "******************************\n",
            "Column : education\n",
            "4\n",
            "******************************\n",
            "Column : BPMeds\n",
            "2\n",
            "******************************\n",
            "Column : totChol\n",
            "248\n",
            "******************************\n",
            "Column : cigsPerDay\n",
            "33\n",
            "******************************\n",
            "Column : BMI\n",
            "1363\n",
            "******************************\n",
            "Column : heartRate\n",
            "73\n",
            "******************************\n"
          ]
        }
      ],
      "source": [
        "\n",
        "missing_columns = [\"glucose\", \"education\",\"BPMeds\",\"totChol\",\"cigsPerDay\",\"BMI\",\"heartRate\"]\n",
        "for i in missing_columns:\n",
        "    print(\"Column :\", i) \n",
        "    print(data[i].nunique())\n",
        "    print(\"******************************\")"
      ]
    },
    {
      "cell_type": "code",
      "execution_count": 9,
      "id": "01b904ce",
      "metadata": {
        "id": "01b904ce"
      },
      "outputs": [],
      "source": [
        "# using fillna methods to fill all null values\n",
        "data[\"glucose\"].fillna(data[\"glucose\"].mean(),inplace =True)# fill with mean values\n",
        "data[\"totChol\"].fillna(data[\"totChol\"].mean(),inplace=True)# fill with mean values\n",
        "data[\"cigsPerDay\"].fillna(data[\"cigsPerDay\"].mean(),inplace=True)# fill with mean values\n",
        "data[\"BMI\"].fillna(data[\"BMI\"].mean(),inplace=True)# fill with mean values\n",
        "data[\"heartRate\"].fillna(data[\"heartRate\"].mean(),inplace=True)# fill with mean values\n",
        "data[\"education\"].fillna(data[\"education\"].median(),inplace=True)# fill with median values\n",
        "data[\"BPMeds\"].fillna(data[\"BPMeds\"].median(),inplace=True)# fill with median values"
      ]
    },
    {
      "cell_type": "code",
      "execution_count": 10,
      "id": "0d6fede0",
      "metadata": {
        "colab": {
          "base_uri": "https://localhost:8080/"
        },
        "id": "0d6fede0",
        "outputId": "2089f141-4370-400e-93ed-c1d92fb5c83c"
      },
      "outputs": [
        {
          "output_type": "execute_result",
          "data": {
            "text/plain": [
              "male               False\n",
              "age                False\n",
              "education          False\n",
              "currentSmoker      False\n",
              "cigsPerDay         False\n",
              "BPMeds             False\n",
              "prevalentStroke    False\n",
              "prevalentHyp       False\n",
              "diabetes           False\n",
              "totChol            False\n",
              "sysBP              False\n",
              "diaBP              False\n",
              "BMI                False\n",
              "heartRate          False\n",
              "glucose            False\n",
              "TenYearCHD         False\n",
              "dtype: bool"
            ]
          },
          "metadata": {},
          "execution_count": 10
        }
      ],
      "source": [
        "# checking wheather null values is filled or not, false means no null value\n",
        "data.isnull().any()"
      ]
    },
    {
      "cell_type": "code",
      "execution_count": 11,
      "id": "b86ceebc",
      "metadata": {
        "colab": {
          "base_uri": "https://localhost:8080/"
        },
        "id": "b86ceebc",
        "outputId": "f1d8a2d1-378e-4656-d200-38695c436013"
      },
      "outputs": [
        {
          "output_type": "execute_result",
          "data": {
            "text/plain": [
              "0    3594\n",
              "1     644\n",
              "Name: TenYearCHD, dtype: int64"
            ]
          },
          "metadata": {},
          "execution_count": 11
        }
      ],
      "source": [
        "data.TenYearCHD.value_counts()# getting unique values in target variable"
      ]
    },
    {
      "cell_type": "code",
      "source": [
        "data.TenYearCHD.value_counts().plot(kind=\"bar\")"
      ],
      "metadata": {
        "colab": {
          "base_uri": "https://localhost:8080/",
          "height": 279
        },
        "id": "LHe3P9nl0qSL",
        "outputId": "bcab71e7-6d44-4cd9-b820-a84fb47fb874"
      },
      "id": "LHe3P9nl0qSL",
      "execution_count": 12,
      "outputs": [
        {
          "output_type": "execute_result",
          "data": {
            "text/plain": [
              "<matplotlib.axes._subplots.AxesSubplot at 0x7f1168f5ad90>"
            ]
          },
          "metadata": {},
          "execution_count": 12
        },
        {
          "output_type": "display_data",
          "data": {
            "text/plain": [
              "<Figure size 432x288 with 1 Axes>"
            ],
            "image/png": "[encoded data removed]"
          },
          "metadata": {
            "needs_background": "light"
          }
        }
      ]
    },
    {
      "cell_type": "code",
      "execution_count": 13,
      "id": "08233b2f",
      "metadata": {
        "colab": {
          "base_uri": "https://localhost:8080/",
          "height": 596
        },
        "id": "08233b2f",
        "outputId": "4d79117f-ed97-4e4c-b987-1728755a9ed0"
      },
      "outputs": [
        {
          "output_type": "display_data",
          "data": {
            "text/plain": [
              "<Figure size 864x720 with 1 Axes>"
            ],
            "image/png": "[encoded data removed]"
          },
          "metadata": {}
        }
      ],
      "source": [
        "# vizualize our target variable\n",
        "labels = 'Heart Disease', 'NO Heart Diseade' # labels\n",
        "sizes = [data.TenYearCHD[data[\"TenYearCHD\"]==1].count(), data.TenYearCHD[data[\"TenYearCHD\"]==0].count()]# count of yes and no\n",
        "explode = (0, 0.1)\n",
        "fig1, ax1 = plt.subplots(figsize=(12, 10)) # figzize\n",
        "ax1.pie(sizes, explode=explode, labels=labels, autopct='%1.1f%%',\n",
        "        shadow=True, startangle=90)# percentage and angle \n",
        "ax1.axis('equal')\n",
        "plt.title(\"Proportion of Heart Disease and without Heart Disease\", size = 20)# plot title\n",
        "plt.show()"
      ]
    },
    {
      "cell_type": "markdown",
      "source": [
        "# WITHOUT HANDLING IMBALANCE LABELS"
      ],
      "metadata": {
        "id": "yM3rgrvB4F2a"
      },
      "id": "yM3rgrvB4F2a"
    },
    {
      "cell_type": "code",
      "execution_count": 14,
      "id": "859e51e7",
      "metadata": {
        "id": "859e51e7"
      },
      "outputs": [],
      "source": [
        "X= data.drop(['TenYearCHD'],axis='columns') \n",
        "Y=data.TenYearCHD \n",
        "from sklearn.model_selection import train_test_split\n",
        "x_train, x_test, y_train, y_test = train_test_split(X, Y, test_size=0.20)"
      ]
    },
    {
      "cell_type": "code",
      "source": [
        "from sklearn.linear_model import LogisticRegression\n",
        "model=LogisticRegression()\n",
        "model.fit(x_train,y_train)\n",
        "from sklearn.metrics import confusion_matrix # confusion matrix\n",
        "from sklearn.metrics import precision_score, recall_score, f1_score, accuracy_score # accuracy\n",
        "from sklearn.metrics import classification_report, confusion_matrix, accuracy_score\n",
        "import sklearn.metrics \n",
        "y_pred= model.predict(x_test)\n",
        "#metrics.accuracy_score(y_test,y_pred)\n",
        "con_matrix = confusion_matrix(y_test, y_pred) ### confusion matrix\n",
        "print(\"Without handling imbalance labels\")\n",
        "print(\"Confusion Matrix:\")\n",
        "print(con_matrix )\n",
        "class_report = classification_report(y_test, y_pred) ### classification report\n",
        "print(\"Classification Report:\",)\n",
        "print (class_report)\n",
        "acc_score = accuracy_score(y_test,y_pred) ### accuracy score\n",
        "print(\"Accuracy:\",acc_score)"
      ],
      "metadata": {
        "colab": {
          "base_uri": "https://localhost:8080/"
        },
        "id": "_oW0TsYG-qNJ",
        "outputId": "a15e4c6f-c08c-432b-b29e-c5107f025fd7"
      },
      "id": "_oW0TsYG-qNJ",
      "execution_count": 15,
      "outputs": [
        {
          "output_type": "stream",
          "name": "stdout",
          "text": [
            "Without handling imbalance labels\n",
            "Confusion Matrix:\n",
            "[[724   3]\n",
            " [119   2]]\n",
            "Classification Report:\n",
            "              precision    recall  f1-score   support\n",
            "\n",
            "           0       0.86      1.00      0.92       727\n",
            "           1       0.40      0.02      0.03       121\n",
            "\n",
            "    accuracy                           0.86       848\n",
            "   macro avg       0.63      0.51      0.48       848\n",
            "weighted avg       0.79      0.86      0.80       848\n",
            "\n",
            "Accuracy: 0.8561320754716981\n"
          ]
        },
        {
          "output_type": "stream",
          "name": "stderr",
          "text": [
            "/usr/local/lib/python3.7/dist-packages/sklearn/linear_model/_logistic.py:818: ConvergenceWarning: lbfgs failed to converge (status=1):\n",
            "STOP: TOTAL NO. of ITERATIONS REACHED LIMIT.\n",
            "\n",
            "Increase the number of iterations (max_iter) or scale the data as shown in:\n",
            "    https://scikit-learn.org/stable/modules/preprocessing.html\n",
            "Please also refer to the documentation for alternative solver options:\n",
            "    https://scikit-learn.org/stable/modules/linear_model.html#logistic-regression\n",
            "  extra_warning_msg=_LOGISTIC_SOLVER_CONVERGENCE_MSG,\n"
          ]
        }
      ]
    },
    {
      "cell_type": "markdown",
      "source": [
        "# Methods 1 - Synthetic Minority Oversampling Technique (SMOTE)"
      ],
      "metadata": {
        "id": "nv2RB8QU5QAi"
      },
      "id": "nv2RB8QU5QAi"
    },
    {
      "cell_type": "code",
      "execution_count": 16,
      "id": "3e355d8f",
      "metadata": {
        "id": "3e355d8f",
        "outputId": "1127c33a-007a-4bad-8df9-a128cea4ed05",
        "colab": {
          "base_uri": "https://localhost:8080/",
          "height": 262
        }
      },
      "outputs": [
        {
          "output_type": "display_data",
          "data": {
            "text/plain": [
              "<Figure size 432x288 with 1 Axes>"
            ],
            "image/png": "[encoded data removed]"
          },
          "metadata": {
            "needs_background": "light"
          }
        }
      ],
      "source": [
        "from imblearn.over_sampling import SMOTE \n",
        "smote = SMOTE()\n",
        "X_over_sample, Y_over_sample = smote.fit_resample(X,Y) \n",
        "plot=Y_over_sample.value_counts().plot(kind='bar')\n",
        "plt.show()"
      ]
    },
    {
      "cell_type": "code",
      "source": [
        "from sklearn.model_selection import train_test_split\n",
        "x_train, x_test, y_train, y_test = train_test_split(X_over_sample, Y_over_sample, test_size=0.20)"
      ],
      "metadata": {
        "id": "2SVMNJMh-HFI"
      },
      "id": "2SVMNJMh-HFI",
      "execution_count": 17,
      "outputs": []
    },
    {
      "cell_type": "code",
      "source": [
        "from sklearn.linear_model import LogisticRegression\n",
        "model=LogisticRegression()\n",
        "model.fit(x_train,y_train)\n",
        "from sklearn.metrics import confusion_matrix # confusion matrix\n",
        "from sklearn.metrics import precision_score, recall_score, f1_score, accuracy_score # accuracy\n",
        "from sklearn.metrics import classification_report, confusion_matrix, accuracy_score\n",
        "import sklearn.metrics \n",
        "y_pred= model.predict(x_test)\n",
        "#metrics.accuracy_score(y_test,y_pred)\n",
        "con_matrix = confusion_matrix(y_test, y_pred) ### confusion matrix\n",
        "print(\"OverSampling the minority class\")\n",
        "print()\n",
        "print(\"Confusion Matrix:\")\n",
        "print(con_matrix )\n",
        "print()\n",
        "class_report = classification_report(y_test, y_pred) ### classification report\n",
        "print(\"Classification Report:\",)\n",
        "print (class_report)\n",
        "acc_score = accuracy_score(y_test,y_pred) ### accuracy score\n",
        "print(\"Accuracy:\",acc_score)\n",
        "print()\n",
        "print(\"*****************************************************\")\n",
        "print()"
      ],
      "metadata": {
        "id": "EFniSLIU-qUJ",
        "colab": {
          "base_uri": "https://localhost:8080/"
        },
        "outputId": "938fa5e6-cd2e-4cb0-d39e-1a1d76894170"
      },
      "id": "EFniSLIU-qUJ",
      "execution_count": 18,
      "outputs": [
        {
          "output_type": "stream",
          "name": "stdout",
          "text": [
            "OverSampling the minority class\n",
            "\n",
            "Confusion Matrix:\n",
            "[[436 284]\n",
            " [258 460]]\n",
            "\n",
            "Classification Report:\n",
            "              precision    recall  f1-score   support\n",
            "\n",
            "           0       0.63      0.61      0.62       720\n",
            "           1       0.62      0.64      0.63       718\n",
            "\n",
            "    accuracy                           0.62      1438\n",
            "   macro avg       0.62      0.62      0.62      1438\n",
            "weighted avg       0.62      0.62      0.62      1438\n",
            "\n",
            "Accuracy: 0.6230876216968011\n",
            "\n",
            "*****************************************************\n",
            "\n"
          ]
        },
        {
          "output_type": "stream",
          "name": "stderr",
          "text": [
            "/usr/local/lib/python3.7/dist-packages/sklearn/linear_model/_logistic.py:818: ConvergenceWarning: lbfgs failed to converge (status=1):\n",
            "STOP: TOTAL NO. of ITERATIONS REACHED LIMIT.\n",
            "\n",
            "Increase the number of iterations (max_iter) or scale the data as shown in:\n",
            "    https://scikit-learn.org/stable/modules/preprocessing.html\n",
            "Please also refer to the documentation for alternative solver options:\n",
            "    https://scikit-learn.org/stable/modules/linear_model.html#logistic-regression\n",
            "  extra_warning_msg=_LOGISTIC_SOLVER_CONVERGENCE_MSG,\n"
          ]
        }
      ]
    },
    {
      "cell_type": "markdown",
      "source": [
        "# Methods 2 - Random under-sampling with imblearn"
      ],
      "metadata": {
        "id": "SKAZxq5j_0Hg"
      },
      "id": "SKAZxq5j_0Hg"
    },
    {
      "cell_type": "code",
      "source": [
        "from imblearn.under_sampling import RandomUnderSampler\n",
        "from collections import Counter\n",
        "under_sample = RandomUnderSampler(random_state=42, replacement=True)\n",
        "x_under_sample, y_under_sample = under_sample.fit_resample(X,Y)\n",
        "print('original dataset (Before under sampling):', Counter(Y))\n",
        "print()\n",
        "print('Resample dataset shape (After under sampling)', Counter(y_under_sample))\n",
        "print()\n",
        "plot=y_under_sample .value_counts().plot(kind='bar')\n",
        "plt.show()"
      ],
      "metadata": {
        "colab": {
          "base_uri": "https://localhost:8080/",
          "height": 331
        },
        "id": "X8hD53diADG3",
        "outputId": "3e0f16b0-7840-4a3b-eb7f-dde6f16baa71"
      },
      "id": "X8hD53diADG3",
      "execution_count": 19,
      "outputs": [
        {
          "output_type": "stream",
          "name": "stdout",
          "text": [
            "original dataset (Before under sampling): Counter({0: 3594, 1: 644})\n",
            "\n",
            "Resample dataset shape (After under sampling) Counter({0: 644, 1: 644})\n",
            "\n"
          ]
        },
        {
          "output_type": "display_data",
          "data": {
            "text/plain": [
              "<Figure size 432x288 with 1 Axes>"
            ],
            "image/png": "[encoded data removed]"
          },
          "metadata": {
            "needs_background": "light"
          }
        }
      ]
    },
    {
      "cell_type": "code",
      "source": [
        "from sklearn.model_selection import train_test_split\n",
        "x_train, x_test, y_train, y_test = train_test_split(x_under_sample, y_under_sample, test_size=0.20)"
      ],
      "metadata": {
        "id": "650942-KADMI"
      },
      "id": "650942-KADMI",
      "execution_count": 20,
      "outputs": []
    },
    {
      "cell_type": "code",
      "source": [
        "from sklearn.linear_model import LogisticRegression\n",
        "model=LogisticRegression()\n",
        "model.fit(x_train,y_train)\n",
        "from sklearn.metrics import confusion_matrix \n",
        "from sklearn.metrics import precision_score, recall_score, f1_score, accuracy_score # accuracy\n",
        "from sklearn.metrics import classification_report, confusion_matrix, accuracy_score\n",
        "import sklearn.metrics \n",
        "y_pred= model.predict(x_test)\n",
        "con_matrix = confusion_matrix(y_test, y_pred) \n",
        "print(\"Random under-sampling with imblearn\")\n",
        "print()\n",
        "print(\"Confusion Matrix:\")\n",
        "print(con_matrix )\n",
        "print()\n",
        "class_report = classification_report(y_test, y_pred)\n",
        "print(\"Classification Report:\",)\n",
        "print (class_report)\n",
        "acc_score = accuracy_score(y_test,y_pred)\n",
        "print(\"Accuracy:\",acc_score)\n"
      ],
      "metadata": {
        "colab": {
          "base_uri": "https://localhost:8080/"
        },
        "id": "gbWwc3WAADOm",
        "outputId": "201670d2-b323-4b3a-96ee-187e315c3278"
      },
      "id": "gbWwc3WAADOm",
      "execution_count": 21,
      "outputs": [
        {
          "output_type": "stream",
          "name": "stdout",
          "text": [
            "Random under-sampling with imblearn\n",
            "\n",
            "Confusion Matrix:\n",
            "[[88 40]\n",
            " [48 82]]\n",
            "\n",
            "Classification Report:\n",
            "              precision    recall  f1-score   support\n",
            "\n",
            "           0       0.65      0.69      0.67       128\n",
            "           1       0.67      0.63      0.65       130\n",
            "\n",
            "    accuracy                           0.66       258\n",
            "   macro avg       0.66      0.66      0.66       258\n",
            "weighted avg       0.66      0.66      0.66       258\n",
            "\n",
            "Accuracy: 0.6589147286821705\n"
          ]
        },
        {
          "output_type": "stream",
          "name": "stderr",
          "text": [
            "/usr/local/lib/python3.7/dist-packages/sklearn/linear_model/_logistic.py:818: ConvergenceWarning: lbfgs failed to converge (status=1):\n",
            "STOP: TOTAL NO. of ITERATIONS REACHED LIMIT.\n",
            "\n",
            "Increase the number of iterations (max_iter) or scale the data as shown in:\n",
            "    https://scikit-learn.org/stable/modules/preprocessing.html\n",
            "Please also refer to the documentation for alternative solver options:\n",
            "    https://scikit-learn.org/stable/modules/linear_model.html#logistic-regression\n",
            "  extra_warning_msg=_LOGISTIC_SOLVER_CONVERGENCE_MSG,\n"
          ]
        }
      ]
    },
    {
      "cell_type": "markdown",
      "source": [
        "# Methods 3 - Random over-sampling with imblearn"
      ],
      "metadata": {
        "id": "BkGQd0FcErhm"
      },
      "id": "BkGQd0FcErhm"
    },
    {
      "cell_type": "code",
      "source": [
        "from imblearn.over_sampling import RandomOverSampler\n",
        "from collections import Counter\n",
        "over_sample = RandomOverSampler(random_state=42)\n",
        "x_over_sample, y_over_sample = over_sample.fit_resample(X,Y)\n",
        "\n",
        "print('original dataset (Before over sampling):', Counter(Y))\n",
        "print()\n",
        "print('Resample dataset  (After over sampling)', Counter(y_over_sample))\n",
        "print()\n",
        "\n",
        "plot=y_over_sample.value_counts().plot(kind='bar')\n",
        "plt.show()"
      ],
      "metadata": {
        "colab": {
          "base_uri": "https://localhost:8080/",
          "height": 331
        },
        "id": "BZA25hNLFNy9",
        "outputId": "f08eb57a-167c-4f7b-f7e3-332dd8b38801"
      },
      "id": "BZA25hNLFNy9",
      "execution_count": 22,
      "outputs": [
        {
          "output_type": "stream",
          "name": "stdout",
          "text": [
            "original dataset (Before over sampling): Counter({0: 3594, 1: 644})\n",
            "\n",
            "Resample dataset  (After over sampling) Counter({0: 3594, 1: 3594})\n",
            "\n"
          ]
        },
        {
          "output_type": "display_data",
          "data": {
            "text/plain": [
              "<Figure size 432x288 with 1 Axes>"
            ],
            "image/png": "[encoded data removed]"
          },
          "metadata": {
            "needs_background": "light"
          }
        }
      ]
    },
    {
      "cell_type": "code",
      "source": [
        "from sklearn.model_selection import train_test_split\n",
        "x_train, x_test, y_train, y_test = train_test_split(x_over_sample, y_over_sample, test_size=0.20)\n",
        "from sklearn.linear_model import LogisticRegression\n",
        "model=LogisticRegression()\n",
        "model.fit(x_train,y_train)\n",
        "from sklearn.metrics import confusion_matrix # confusion matrix\n",
        "from sklearn.metrics import precision_score, recall_score, f1_score, accuracy_score # accuracy\n",
        "from sklearn.metrics import classification_report, confusion_matrix, accuracy_score\n",
        "import sklearn.metrics \n",
        "y_pred= model.predict(x_test)\n",
        "#metrics.accuracy_score(y_test,y_pred)\n",
        "con_matrix = confusion_matrix(y_test, y_pred) ### confusion matrix\n",
        "print(\"Random over-sampling with imblearn\")\n",
        "print()\n",
        "print(\"Confusion Matrix:\")\n",
        "print(con_matrix )\n",
        "print()\n",
        "class_report = classification_report(y_test, y_pred) ### classification report\n",
        "print(\"Classification Report:\",)\n",
        "print (class_report)\n",
        "acc_score = accuracy_score(y_test,y_pred) ### accuracy score\n",
        "print(\"Accuracy:\",acc_score)\n",
        "print()\n",
        "print(\"*****************************************************\")\n",
        "print()"
      ],
      "metadata": {
        "colab": {
          "base_uri": "https://localhost:8080/"
        },
        "id": "Dk4kSy-eF-97",
        "outputId": "a7a981b9-8c5c-4657-c7ce-9a03c584549f"
      },
      "id": "Dk4kSy-eF-97",
      "execution_count": 23,
      "outputs": [
        {
          "output_type": "stream",
          "name": "stdout",
          "text": [
            "Random over-sampling with imblearn\n",
            "\n",
            "Confusion Matrix:\n",
            "[[468 224]\n",
            " [273 473]]\n",
            "\n",
            "Classification Report:\n",
            "              precision    recall  f1-score   support\n",
            "\n",
            "           0       0.63      0.68      0.65       692\n",
            "           1       0.68      0.63      0.66       746\n",
            "\n",
            "    accuracy                           0.65      1438\n",
            "   macro avg       0.66      0.66      0.65      1438\n",
            "weighted avg       0.66      0.65      0.65      1438\n",
            "\n",
            "Accuracy: 0.6543810848400556\n",
            "\n",
            "*****************************************************\n",
            "\n"
          ]
        },
        {
          "output_type": "stream",
          "name": "stderr",
          "text": [
            "/usr/local/lib/python3.7/dist-packages/sklearn/linear_model/_logistic.py:818: ConvergenceWarning: lbfgs failed to converge (status=1):\n",
            "STOP: TOTAL NO. of ITERATIONS REACHED LIMIT.\n",
            "\n",
            "Increase the number of iterations (max_iter) or scale the data as shown in:\n",
            "    https://scikit-learn.org/stable/modules/preprocessing.html\n",
            "Please also refer to the documentation for alternative solver options:\n",
            "    https://scikit-learn.org/stable/modules/linear_model.html#logistic-regression\n",
            "  extra_warning_msg=_LOGISTIC_SOLVER_CONVERGENCE_MSG,\n"
          ]
        }
      ]
    },
    {
      "cell_type": "markdown",
      "source": [
        "# Methods 4 - NearMiss"
      ],
      "metadata": {
        "id": "EjNEHB2CKNX0"
      },
      "id": "EjNEHB2CKNX0"
    },
    {
      "cell_type": "code",
      "source": [
        "from imblearn.under_sampling import NearMiss\n",
        "nearmiss = NearMiss()\n",
        "x_nm, y_nm = nearmiss.fit_resample(X,Y)\n",
        "print('dataset shape (Before near miss):', Counter(Y))\n",
        "print()\n",
        "print('dataset shape(After near miss):', Counter(y_nm))\n",
        "print()\n",
        "plot=y_nm.value_counts().plot(kind='bar')\n",
        "plt.show()"
      ],
      "metadata": {
        "colab": {
          "base_uri": "https://localhost:8080/",
          "height": 331
        },
        "id": "dxpfwoVjgKgf",
        "outputId": "c4c561e0-d6aa-4b30-cbf9-7781bf8f39ae"
      },
      "id": "dxpfwoVjgKgf",
      "execution_count": 24,
      "outputs": [
        {
          "output_type": "stream",
          "name": "stdout",
          "text": [
            "dataset shape (Before near miss): Counter({0: 3594, 1: 644})\n",
            "\n",
            "dataset shape(After near miss): Counter({0: 644, 1: 644})\n",
            "\n"
          ]
        },
        {
          "output_type": "display_data",
          "data": {
            "text/plain": [
              "<Figure size 432x288 with 1 Axes>"
            ],
            "image/png": "[encoded data removed]"
          },
          "metadata": {
            "needs_background": "light"
          }
        }
      ]
    },
    {
      "cell_type": "code",
      "source": [
        "from sklearn.model_selection import train_test_split\n",
        "x_train, x_test, y_train, y_test = train_test_split(x_nm, y_nm, test_size=0.20)\n",
        "from sklearn.linear_model import LogisticRegression\n",
        "model=LogisticRegression()\n",
        "model.fit(x_train,y_train)\n",
        "from sklearn.metrics import confusion_matrix # confusion matrix\n",
        "from sklearn.metrics import precision_score, recall_score, f1_score, accuracy_score # accuracy\n",
        "from sklearn.metrics import classification_report, confusion_matrix, accuracy_score\n",
        "import sklearn.metrics \n",
        "y_pred= model.predict(x_test)\n",
        "#metrics.accuracy_score(y_test,y_pred)\n",
        "con_matrix = confusion_matrix(y_test, y_pred) ### confusion matrix\n",
        "print(\"Near Miss\")\n",
        "print()\n",
        "print(\"Confusion Matrix:\")\n",
        "print(con_matrix )\n",
        "print()\n",
        "class_report = classification_report(y_test, y_pred) ### classification report\n",
        "print(\"Classification Report:\",)\n",
        "print (class_report)\n",
        "acc_score = accuracy_score(y_test,y_pred) ### accuracy score\n",
        "print(\"Accuracy:\",acc_score)\n",
        "print()\n",
        "print(\"*****************************************************\")\n",
        "print()"
      ],
      "metadata": {
        "colab": {
          "base_uri": "https://localhost:8080/"
        },
        "id": "sJW2IC4UgKjd",
        "outputId": "400882d4-20b7-46fb-98db-d0be9b8fee17"
      },
      "id": "sJW2IC4UgKjd",
      "execution_count": 25,
      "outputs": [
        {
          "output_type": "stream",
          "name": "stdout",
          "text": [
            "Near Miss\n",
            "\n",
            "Confusion Matrix:\n",
            "[[101  31]\n",
            " [ 47  79]]\n",
            "\n",
            "Classification Report:\n",
            "              precision    recall  f1-score   support\n",
            "\n",
            "           0       0.68      0.77      0.72       132\n",
            "           1       0.72      0.63      0.67       126\n",
            "\n",
            "    accuracy                           0.70       258\n",
            "   macro avg       0.70      0.70      0.70       258\n",
            "weighted avg       0.70      0.70      0.70       258\n",
            "\n",
            "Accuracy: 0.6976744186046512\n",
            "\n",
            "*****************************************************\n",
            "\n"
          ]
        },
        {
          "output_type": "stream",
          "name": "stderr",
          "text": [
            "/usr/local/lib/python3.7/dist-packages/sklearn/linear_model/_logistic.py:818: ConvergenceWarning: lbfgs failed to converge (status=1):\n",
            "STOP: TOTAL NO. of ITERATIONS REACHED LIMIT.\n",
            "\n",
            "Increase the number of iterations (max_iter) or scale the data as shown in:\n",
            "    https://scikit-learn.org/stable/modules/preprocessing.html\n",
            "Please also refer to the documentation for alternative solver options:\n",
            "    https://scikit-learn.org/stable/modules/linear_model.html#logistic-regression\n",
            "  extra_warning_msg=_LOGISTIC_SOLVER_CONVERGENCE_MSG,\n"
          ]
        }
      ]
    },
    {
      "cell_type": "markdown",
      "source": [
        "# Methods 5 - Stratified Cross Validation"
      ],
      "metadata": {
        "id": "38P_Q5yNlk52"
      },
      "id": "38P_Q5yNlk52"
    },
    {
      "cell_type": "code",
      "source": [
        "from sklearn.model_selection import train_test_split, StratifiedKFold\n",
        "\n",
        "X_train, X_test, Y_train, Y_test = train_test_split(X_over_sample, Y_over_sample,\n",
        "                                                    stratify=Y_over_sample,\n",
        "                                                    test_size=0.2,\n",
        "                                                    random_state=42) "
      ],
      "metadata": {
        "id": "YUcYLdtfljiv"
      },
      "id": "YUcYLdtfljiv",
      "execution_count": 45,
      "outputs": []
    },
    {
      "cell_type": "code",
      "source": [
        "from sklearn.linear_model import LogisticRegression\n",
        "model=LogisticRegression()\n",
        "model.fit(X_train,Y_train)\n",
        "from sklearn.metrics import confusion_matrix # confusion matrix\n",
        "from sklearn.metrics import precision_score, recall_score, f1_score, accuracy_score # accuracy\n",
        "from sklearn.metrics import classification_report, confusion_matrix, accuracy_score\n",
        "import sklearn.metrics \n",
        "y_pred= model.predict(X_test)\n",
        "\n",
        "con_matrix = confusion_matrix(Y_test, y_pred) ### confusion matrix\n",
        "print(\"After using stratified\")\n",
        "print()\n",
        "print(\"Confusion Matrix:\")\n",
        "print(con_matrix )\n",
        "print()\n",
        "class_report = classification_report(Y_test, y_pred) ### classification report\n",
        "print(\"Classification Report:\",)\n",
        "print (class_report)\n",
        "acc_score = accuracy_score(Y_test,y_pred) ### accuracy score\n",
        "print(\"Accuracy:\",acc_score)\n",
        "print()\n",
        "print(\"*****************************************************\")\n",
        "print()"
      ],
      "metadata": {
        "colab": {
          "base_uri": "https://localhost:8080/"
        },
        "id": "spoR_02ylj0Y",
        "outputId": "5a60b8d8-d910-4cda-efc5-a79c1f91a86d"
      },
      "id": "spoR_02ylj0Y",
      "execution_count": 46,
      "outputs": [
        {
          "output_type": "stream",
          "name": "stdout",
          "text": [
            "After using stratified\n",
            "\n",
            "Confusion Matrix:\n",
            "[[455 264]\n",
            " [284 435]]\n",
            "\n",
            "Classification Report:\n",
            "              precision    recall  f1-score   support\n",
            "\n",
            "           0       0.62      0.63      0.62       719\n",
            "           1       0.62      0.61      0.61       719\n",
            "\n",
            "    accuracy                           0.62      1438\n",
            "   macro avg       0.62      0.62      0.62      1438\n",
            "weighted avg       0.62      0.62      0.62      1438\n",
            "\n",
            "Accuracy: 0.6189151599443672\n",
            "\n",
            "*****************************************************\n",
            "\n"
          ]
        },
        {
          "output_type": "stream",
          "name": "stderr",
          "text": [
            "/usr/local/lib/python3.7/dist-packages/sklearn/linear_model/_logistic.py:818: ConvergenceWarning: lbfgs failed to converge (status=1):\n",
            "STOP: TOTAL NO. of ITERATIONS REACHED LIMIT.\n",
            "\n",
            "Increase the number of iterations (max_iter) or scale the data as shown in:\n",
            "    https://scikit-learn.org/stable/modules/preprocessing.html\n",
            "Please also refer to the documentation for alternative solver options:\n",
            "    https://scikit-learn.org/stable/modules/linear_model.html#logistic-regression\n",
            "  extra_warning_msg=_LOGISTIC_SOLVER_CONVERGENCE_MSG,\n"
          ]
        }
      ]
    },
    {
      "cell_type": "code",
      "source": [],
      "metadata": {
        "id": "7kBofs2wlj2L"
      },
      "id": "7kBofs2wlj2L",
      "execution_count": null,
      "outputs": []
    },
    {
      "cell_type": "markdown",
      "source": [
        "# ............................................THANK YOU................."
      ],
      "metadata": {
        "id": "CzjXguTOhjkv"
      },
      "id": "CzjXguTOhjkv"
    }
  ],
  "metadata": {
    "kernelspec": {
      "display_name": "Python 3",
      "language": "python",
      "name": "python3"
    },
    "language_info": {
      "codemirror_mode": {
        "name": "ipython",
        "version": 3
      },
      "file_extension": ".py",
      "mimetype": "text/x-python",
      "name": "python",
      "nbconvert_exporter": "python",
      "pygments_lexer": "ipython3",
      "version": "3.8.8"
    },
    "colab": {
      "provenance": [],
      "collapsed_sections": []
    }
  },
  "nbformat": 4,
  "nbformat_minor": 5
}